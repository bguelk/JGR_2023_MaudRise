{
 "cells": [
  {
   "cell_type": "code",
   "execution_count": 3,
   "metadata": {},
   "outputs": [],
   "source": [
    "import xnemogcm\n",
    "import xgcm\n",
    "import numpy as np\n",
    "import matplotlib.pyplot as plt\n",
    "from pathlib import Path\n",
    "from matplotlib.colors import LogNorm\n",
    "import gsw\n",
    "import cmocean.cm as cmo\n",
    "import xarray as xr\n",
    "from skimage.morphology import dilation\n",
    "from skimage.morphology import disk\n",
    "xr.set_options(keep_attrs=True)\n",
    "plt.rcParams['font.size']=12"
   ]
  },
  {
   "cell_type": "markdown",
   "metadata": {},
   "source": [
    "This notebook is made to analyse the results from the Maud Rise configuration\n",
    "Since the post-processing provides several variables in single files, first a combined data set needs to be created"
   ]
  },
  {
   "cell_type": "code",
   "execution_count": 4,
   "metadata": {},
   "outputs": [],
   "source": [
    "rho=1026\n",
    "cp=4000\n",
    "rd=60\n",
    "dt=86400\n"
   ]
  },
  {
   "cell_type": "markdown",
   "metadata": {},
   "source": [
    "# Compare to M36"
   ]
  },
  {
   "cell_type": "code",
   "execution_count": 6,
   "metadata": {},
   "outputs": [],
   "source": [
    "# path to the stored data\n",
    "path=('../../MAUD_RISE_config/maud_v4/m36_ke2/sb/')\n",
    "\n",
    "ds1=xr.open_mfdataset(path+'*_m36.nc',chunks={'t':60})\n",
    "ds2=xr.open_mfdataset('../../MAUD_RISE_config/maud_v4/m36_ke2/mld*_m36.nc',chunks={'t':60})\n",
    "bat=xr.open_dataset('../../MAUD_RISE_config/maud_v4/m36_mask/1_domain_cfg_50levels_new.nc')\n",
    "bat.coords['nav_lon']=bat.nav_lon.mean(dim='y')\n",
    "bat.coords['nav_lat']=bat.nav_lat.mean(dim='x')\n",
    "bat=bat.swap_dims({'x':'x_c','y':'y_c'})\n",
    "mask=xr.open_mfdataset('../../MAUD_RISE_config/maud_v4/m36_mask/mask*.nc')\n",
    "\n",
    "# combine the datasets\n",
    "ds=xr.merge((ds1,ds2,bat.bathy_meter,mask))\n",
    "ds.coords['month']=ds.t.dt.month\n",
    "ds.coords['year']=ds.t.dt.year\n",
    "ds.coords['day']=ds.t.dt.day\n",
    "\n",
    "del ds['nav_lon']\n",
    "del ds['nav_lat']\n",
    "\n",
    "ds36=ds\n",
    "\n",
    "grid36 = xgcm.Grid(ds, coords={\"X\": {\"center\": \"x_c\", \"right\": \"x_f\"},\"Y\": {\"center\": \"y_c\", \"right\": \"y_f\"},\"T\":{\"center\":\"t\"},\"Z\":{\"center\":\"z_c\", \"left\":\"z_f\"}})\n",
    "mean_bathy36 = ds.bathy_meter.rolling(x_c=39,center=True).mean().rolling(y_c=39,center=True).mean()\n",
    "time_array36=np.array(ds.t,dtype=np.datetime64)\n"
   ]
  },
  {
   "cell_type": "code",
   "execution_count": 1,
   "metadata": {},
   "outputs": [
    {
     "ename": "NameError",
     "evalue": "name 'ds' is not defined",
     "output_type": "error",
     "traceback": [
      "\u001b[0;31m---------------------------------------------------------------------------\u001b[0m",
      "\u001b[0;31mNameError\u001b[0m                                 Traceback (most recent call last)",
      "\u001b[0;32m<ipython-input-1-6f4a4004dcca>\u001b[0m in \u001b[0;36m<module>\u001b[0;34m\u001b[0m\n\u001b[0;32m----> 1\u001b[0;31m \u001b[0mds\u001b[0m\u001b[0;34m\u001b[0m\u001b[0;34m\u001b[0m\u001b[0m\n\u001b[0m",
      "\u001b[0;31mNameError\u001b[0m: name 'ds' is not defined"
     ]
    }
   ],
   "source": [
    "ds"
   ]
  },
  {
   "cell_type": "markdown",
   "metadata": {},
   "source": [
    "# Components for the salt budget"
   ]
  },
  {
   "cell_type": "code",
   "execution_count": 7,
   "metadata": {},
   "outputs": [],
   "source": [
    "#MAUD 36\n",
    "\n",
    "surf_salt_tc36=((ds.sfdw_tc)/rho).load()\n",
    "\n",
    "dS_l1_tc36=ds36.dS_l1_tc.load()\n",
    "dS_eddy_l1_tc36=ds36.dS_eddy_l1_tc.load()\n",
    "sf_up_200_tc36=ds36.sf_up_200_tc.load() \n",
    "eddy_sf_up_200_tc36=ds36.eddy_sf_up_200_tc.load() \n",
    "totsf_l1_tc36=(dS_l1_tc36+surf_salt_tc36+sf_up_200_tc36).rolling(t=2).mean().isel(t=slice(1,None,None)).load()\n",
    "dsc_l1_tc36=ds36.dsc_l1_tc.load()\n",
    "#compute the residual\n",
    "res_l1_tc36=(dsc_l1_tc36.diff(dim='t')/dt-totsf_l1_tc36).load()\n",
    "  #in the volume\n",
    "dS_tc36=ds36.dS_tc.load()\n",
    "dS_eddy_tc36=(ds36.dS_eddy_l1_tc+ds36.dS_eddy_l2_tc+ds36.dS_eddy_l3_tc).load()\n",
    "total_sflux_tc36=(dS_tc36+surf_salt_tc36).rolling(t=2).mean().isel(t=slice(1,None,None)).load()\n",
    "dsc_dt_tc36=ds36.dsc_tc.load()\n",
    "\n",
    "dS_l2_tc36=(ds36.dS_l2_tc).load()\n",
    "sf_up_1000_tc36=(ds36.sf_up_1000_tc).load() \n",
    "dS_eddy_l2_tc36=(ds36.dS_eddy_l2_tc).load()\n",
    "eddy_sf_up_1000_tc36=(ds36.eddy_sf_up_1000_tc).load() \n",
    "totsf_l2_tc36=(dS_l2_tc36-sf_up_200_tc36+sf_up_1000_tc36).rolling(t=2).mean().isel(t=slice(1,None,None)).load()\n",
    "dsc_l2_tc36=(ds36.dsc_l2_tc).load()\n",
    "#compute the residual\n",
    "res_l2_tc36=(dsc_l2_tc36.diff(dim='t')/dt-totsf_l2_tc36).load()\n",
    "\n",
    "# the heat in the depth below 1 000m  is controlled by the lateral changes and fluxes through the 1000m depth\n",
    "dS_l3_tc36=ds36.dS_l3_tc.load()\n",
    "dS_eddy_l3_tc36=ds36.dS_eddy_l3_tc.load()\n",
    "totsf_l3_tc36=(dS_l3_tc36-sf_up_1000_tc36).rolling(t=2).mean().isel(t=slice(1,None,None)).load()\n",
    "dsc_l3_tc36=(ds36.dsc_l3_tc).load()\n",
    "#compute the residual\n",
    "res_l3_tc36=(dsc_l3_tc36.diff(dim='t')/dt-totsf_l3_tc36).load()"
   ]
  },
  {
   "cell_type": "code",
   "execution_count": 2,
   "metadata": {},
   "outputs": [
    {
     "ename": "NameError",
     "evalue": "name 'plt' is not defined",
     "output_type": "error",
     "traceback": [
      "\u001b[0;31m---------------------------------------------------------------------------\u001b[0m",
      "\u001b[0;31mNameError\u001b[0m                                 Traceback (most recent call last)",
      "\u001b[0;32m<ipython-input-2-707c77bb5c36>\u001b[0m in \u001b[0;36m<module>\u001b[0;34m\u001b[0m\n\u001b[1;32m      2\u001b[0m \u001b[0;34m\u001b[0m\u001b[0m\n\u001b[1;32m      3\u001b[0m \u001b[0mrd\u001b[0m\u001b[0;34m=\u001b[0m\u001b[0;36m60\u001b[0m\u001b[0;34m\u001b[0m\u001b[0;34m\u001b[0m\u001b[0m\n\u001b[0;32m----> 4\u001b[0;31m \u001b[0mfig\u001b[0m\u001b[0;34m,\u001b[0m\u001b[0maxes\u001b[0m\u001b[0;34m=\u001b[0m\u001b[0mplt\u001b[0m\u001b[0;34m.\u001b[0m\u001b[0msubplots\u001b[0m\u001b[0;34m(\u001b[0m\u001b[0;36m4\u001b[0m\u001b[0;34m,\u001b[0m\u001b[0;36m1\u001b[0m\u001b[0;34m,\u001b[0m\u001b[0mfigsize\u001b[0m\u001b[0;34m=\u001b[0m\u001b[0;34m(\u001b[0m\u001b[0;36m8\u001b[0m\u001b[0;34m,\u001b[0m\u001b[0;36m8\u001b[0m\u001b[0;34m)\u001b[0m\u001b[0;34m,\u001b[0m\u001b[0msharex\u001b[0m\u001b[0;34m=\u001b[0m\u001b[0;32mTrue\u001b[0m\u001b[0;34m)\u001b[0m\u001b[0;34m\u001b[0m\u001b[0;34m\u001b[0m\u001b[0m\n\u001b[0m\u001b[1;32m      5\u001b[0m \u001b[0max\u001b[0m\u001b[0;34m=\u001b[0m\u001b[0maxes\u001b[0m\u001b[0;34m[\u001b[0m\u001b[0;36m0\u001b[0m\u001b[0;34m]\u001b[0m\u001b[0;34m\u001b[0m\u001b[0;34m\u001b[0m\u001b[0m\n\u001b[1;32m      6\u001b[0m \u001b[0msf_up_1000_tc36\u001b[0m\u001b[0;34m.\u001b[0m\u001b[0mrolling\u001b[0m\u001b[0;34m(\u001b[0m\u001b[0mt\u001b[0m\u001b[0;34m=\u001b[0m\u001b[0mrd\u001b[0m\u001b[0;34m,\u001b[0m\u001b[0mcenter\u001b[0m\u001b[0;34m=\u001b[0m\u001b[0;32mTrue\u001b[0m\u001b[0;34m)\u001b[0m\u001b[0;34m.\u001b[0m\u001b[0mmean\u001b[0m\u001b[0;34m(\u001b[0m\u001b[0;34m)\u001b[0m\u001b[0;34m.\u001b[0m\u001b[0mplot\u001b[0m\u001b[0;34m(\u001b[0m\u001b[0max\u001b[0m\u001b[0;34m=\u001b[0m\u001b[0max\u001b[0m\u001b[0;34m,\u001b[0m\u001b[0mcolor\u001b[0m\u001b[0;34m=\u001b[0m\u001b[0;34m'firebrick'\u001b[0m\u001b[0;34m,\u001b[0m\u001b[0mlinestyle\u001b[0m\u001b[0;34m=\u001b[0m\u001b[0;34m'-'\u001b[0m\u001b[0;34m,\u001b[0m\u001b[0mlabel\u001b[0m\u001b[0;34m=\u001b[0m\u001b[0;34m'through 1000m'\u001b[0m\u001b[0;34m)\u001b[0m\u001b[0;34m\u001b[0m\u001b[0;34m\u001b[0m\u001b[0m\n",
      "\u001b[0;31mNameError\u001b[0m: name 'plt' is not defined"
     ]
    }
   ],
   "source": [
    "# Figure 9 of the manuscript\n",
    "\n",
    "rd=60\n",
    "fig,axes=plt.subplots(4,1,figsize=(8,8),sharex=True)\n",
    "ax=axes[0]\n",
    "sf_up_1000_tc36.rolling(t=rd,center=True).mean().plot(ax=ax,color='firebrick',linestyle='-',label='through 1000m')\n",
    "(sf_up_200_tc36).rolling(t=rd,center=True).mean().plot(ax=ax,color='mediumblue',linestyle='-',label='through 200m')\n",
    "ax.tick_params(axis='y',labelcolor='k')\n",
    "plt.text(-0.07, 1, 'a)', horizontalalignment='center',verticalalignment='center', transform=ax.transAxes,fontsize='14')\n",
    "ax.set_ylim(-2.5e11,2.5e11)\n",
    "\n",
    "ax2=ax.twinx()\n",
    "surf_salt_tc36.rolling(t=rd,center=True).mean().plot(ax=ax2,color='goldenrod',linestyle='-',label='surface')\n",
    "ax2.set_ylabel('$salt flux$ [g/kg $m^3/s$]')\n",
    "ax2.set_title('')\n",
    "ax2.tick_params(axis='y',labelcolor='goldenrod')\n",
    "ax2.set_ylim(-2.5e12,2.5e12)\n",
    "ax.legend(ncol=3)\n",
    "\n",
    "ax=axes[1]\n",
    "dS_l1_tc36.rolling(t=rd,center=True).mean().plot(ax=ax,color='darkgoldenrod',linestyle='-',label='<200m')\n",
    "dS_l2_tc36.rolling(t=rd,center=True).mean().plot(ax=ax,color='mediumblue',linestyle='-',label='200-1000m')\n",
    "dS_l3_tc36.rolling(t=rd,center=True).mean().plot(ax=ax,color='maroon',linestyle='-',label='>1000m')\n",
    "ax.legend(ncol=3,frameon=False,bbox_to_anchor=(0.9,-.15,.0,.2))#,frameon=False)#,bbox_to_anchor=(0.6,1.05,.10,.2))\n",
    "dS_eddy_l2_tc36.rolling(t=rd,center=True).mean().plot(ax=ax,color='dodgerblue',linestyle='--')\n",
    "plt.text(-0.07, 1, 'b)', horizontalalignment='center',verticalalignment='center', transform=ax.transAxes,fontsize='14')\n",
    "ax.set_ylim(-4e11,4e11)\n",
    "\n",
    "ax=axes[2]\n",
    "dsc_l1_tc36.rolling(t=rd,center=True).mean().plot(ax=ax,color='goldenrod',linestyle='-',label='<200m')\n",
    "dsc_l2_tc36.rolling(t=rd,center=True).mean().plot(ax=ax,color='mediumblue',linestyle='-',label='200-1000m')\n",
    "dsc_l3_tc36.rolling(t=rd,center=True).mean().plot(ax=ax,color='firebrick',linestyle='-',label='>1000m')\n",
    "ax.set_ylim(-3e19,3e19)\n",
    "plt.text(-0.07, 1, 'c)', horizontalalignment='center',verticalalignment='center', transform=ax.transAxes,fontsize='14')\n",
    "\n",
    "ax=axes[3]\n",
    "(-1*ds36.mldr10_1.where(ds36.mask_tc==1).max(dim={'x_c','y_c'})).plot(ax=ax,color='k')\n",
    "ax.hlines(y=-200,xmin=time_array36[0],xmax=time_array36[-1],color='mediumblue')\n",
    "ax.hlines(y=-1000,xmin=time_array36[0],xmax=time_array36[-1],color='firebrick')\n",
    "plt.setp(ax.get_xticklabels(), ha=\"center\", rotation=0)\n",
    "plt.text(-0.07, 1, 'd)', horizontalalignment='center',verticalalignment='center', transform=ax.transAxes,fontsize='14')\n",
    "for i in range(0,4):\n",
    "    axes[i].grid() \n",
    "    axes[i].set_ylabel('')\n",
    "    axes[i].set_xlabel('')\n",
    "    axes[i].set_title('')\n",
    "    axes[i].set_xlim((time_array36[1],time_array36[-163]))\n",
    "\n",
    "\n",
    "axes[0].set_ylabel('$F^{S}_{v}$ [g/kg $m^3/s$]')\n",
    "axes[1].set_ylabel('$F^{S}_{h}$ [g/kg $m^3/s$]')\n",
    "axes[2].set_ylabel('$S_{content}$ [g/kg $m^3$]')\n",
    "axes[3].set_ylabel('Max MLD [m] ')\n",
    "plt.tight_layout()\n",
    "#plt.savefig('../figures/Heat_budget_all.jpg',dpi=300)"
   ]
  },
  {
   "cell_type": "code",
   "execution_count": null,
   "metadata": {},
   "outputs": [],
   "source": []
  }
 ],
 "metadata": {
  "kernelspec": {
   "display_name": "Python 3",
   "language": "python",
   "name": "python3"
  },
  "language_info": {
   "codemirror_mode": {
    "name": "ipython",
    "version": 3
   },
   "file_extension": ".py",
   "mimetype": "text/x-python",
   "name": "python",
   "nbconvert_exporter": "python",
   "pygments_lexer": "ipython3",
   "version": "3.8.5"
  }
 },
 "nbformat": 4,
 "nbformat_minor": 4
}
